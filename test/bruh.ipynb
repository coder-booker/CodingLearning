{
 "cells": [
  {
   "cell_type": "code",
   "execution_count": 7,
   "metadata": {},
   "outputs": [
    {
     "name": "stdout",
     "output_type": "stream",
     "text": [
      "[18, 14, 5]\n",
      "[8, 15, 18]\n",
      "[12, 19, 1]\n",
      "[15, 12, 1]\n",
      "[21, 25, 19]\n"
     ]
    }
   ],
   "source": [
    "a = ord('a')\n",
    "li = ['r', 'n', 'e']\n",
    "li2 = ['h', 'o', 'r']\n",
    "li3 = ['l', 's', 'a']\n",
    "li4 = ['o', 'l', 'a']\n",
    "li5 = ['u', 'y', 's']\n",
    "print([ord(i) - a + 1 for i in li])\n",
    "print([ord(i) - a + 1 for i in li2])\n",
    "print([ord(i) - a + 1 for i in li3])\n",
    "print([ord(i) - a + 1 for i in li4])\n",
    "print([ord(i) - a + 1 for i in li5])"
   ]
  }
 ],
 "metadata": {
  "kernelspec": {
   "display_name": "Python 3",
   "language": "python",
   "name": "python3"
  },
  "language_info": {
   "codemirror_mode": {
    "name": "ipython",
    "version": 3
   },
   "file_extension": ".py",
   "mimetype": "text/x-python",
   "name": "python",
   "nbconvert_exporter": "python",
   "pygments_lexer": "ipython3",
   "version": "3.13.0"
  }
 },
 "nbformat": 4,
 "nbformat_minor": 2
}
