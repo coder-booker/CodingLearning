{
 "cells": [
  {
   "cell_type": "code",
   "execution_count": 15,
   "metadata": {},
   "outputs": [
    {
     "name": "stdout",
     "output_type": "stream",
     "text": [
      "-12\n",
      "A D\n",
      "O R\n"
     ]
    }
   ],
   "source": [
    "a = 'A'\n",
    "n = 'M'\n",
    "o = 'O'\n",
    "r = 'R'\n",
    "# 凯撒密码，反向找OR，但只限制在A-Z之间\n",
    "diff = ord(a) - ord(n)\n",
    "print(diff)\n",
    "base = ord('A')\n",
    "print(chr((ord('O') - base - diff) % 26 + base), chr((ord('R') - base - diff) % 26 + base))\n",
    "\n",
    "# test\n",
    "print(chr((ord('A') - base + diff) % 26 + base), chr((ord('D') - base + diff) % 26 + base))"
   ]
  }
 ],
 "metadata": {
  "kernelspec": {
   "display_name": "Python 3",
   "language": "python",
   "name": "python3"
  },
  "language_info": {
   "codemirror_mode": {
    "name": "ipython",
    "version": 3
   },
   "file_extension": ".py",
   "mimetype": "text/x-python",
   "name": "python",
   "nbconvert_exporter": "python",
   "pygments_lexer": "ipython3",
   "version": "3.13.0"
  }
 },
 "nbformat": 4,
 "nbformat_minor": 2
}
